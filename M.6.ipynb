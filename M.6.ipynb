{
 "cells": [
  {
   "cell_type": "code",
   "execution_count": 3,
   "id": "5be6c21a-5ea6-473d-adac-c7757b33570d",
   "metadata": {},
   "outputs": [
    {
     "name": "stderr",
     "output_type": "stream",
     "text": [
      "C:\\ProgramData\\anaconda3\\Lib\\site-packages\\sklearn\\linear_model\\_logistic.py:469: ConvergenceWarning: lbfgs failed to converge (status=1):\n",
      "STOP: TOTAL NO. of ITERATIONS REACHED LIMIT.\n",
      "\n",
      "Increase the number of iterations (max_iter) or scale the data as shown in:\n",
      "    https://scikit-learn.org/stable/modules/preprocessing.html\n",
      "Please also refer to the documentation for alternative solver options:\n",
      "    https://scikit-learn.org/stable/modules/linear_model.html#logistic-regression\n",
      "  n_iter_i = _check_optimize_result(\n"
     ]
    }
   ],
   "source": [
    "import pandas as pd\n",
    "from sklearn.datasets import load_breast_cancer\n",
    "from sklearn.model_selection import train_test_split\n",
    "from sklearn.linear_model import LogisticRegression\n",
    "from sklearn.ensemble import RandomForestClassifier\n",
    "from sklearn.metrics import classification_report, confusion_matrix, precision_recall_curve, ConfusionMatrixDisplay, PrecisionRecallDisplay,accuracy_score\n",
    "import matplotlib.pyplot as plt\n",
    "import os\n",
    "data = load_breast_cancer()\n",
    "X = pd.DataFrame(data.data, columns=data.feature_names)\n",
    "y = data.target\n",
    "X_train, X_test, y_train, y_test = train_test_split(X, y, test_size=0.2, random_state=42)\n",
    "\n",
    "lr_model = LogisticRegression(max_iter=1000)\n",
    "rf_model = RandomForestClassifier()\n",
    "\n",
    "lr_model.fit(X_train, y_train)\n",
    "rf_model.fit(X_train, y_train)\n",
    "\n",
    "y_pred_lr = lr_model.predict(X_test)\n",
    "y_pred_rf = rf_model.predict(X_test)\n",
    "\n",
    "y_scores_lr = lr_model.predict_proba(X_test)[:, 1]\n",
    "y_scores_rf = rf_model.predict_proba(X_test)[:, 1]\n",
    "\n",
    "cm_lr = confusion_matrix(y_test, y_pred_lr)\n",
    "disp_lr = ConfusionMatrixDisplay(cm_lr, display_labels=data.target_names)\n",
    "disp_lr.plot()\n",
    "plt.title(\"Confusion Matrix - Logistic Regression\")\n",
    "plt.savefig(\"confusion_matrix_lr.png\")\n",
    "plt.close()\n",
    "\n",
    "cm_rf = confusion_matrix(y_test, y_pred_rf)\n",
    "disp_rf = ConfusionMatrixDisplay(cm_rf, display_labels=data.target_names)\n",
    "disp_rf.plot()\n",
    "plt.title(\"Confusion Matrix - Random Forest\")\n",
    "plt.savefig(\"confusion_matrix_rf.png\")\n",
    "plt.close()\n",
    "\n",
    "precision_lr, recall_lr, _ = precision_recall_curve(y_test, y_scores_lr)\n",
    "PrecisionRecallDisplay(precision_lr, recall_lr).plot()\n",
    "plt.title(\"Precision-Recall Curve - Logistic Regression\")\n",
    "plt.savefig(\"pr_curve_lr.png\")\n",
    "plt.close()"
   ]
  },
  {
   "cell_type": "code",
   "execution_count": null,
   "id": "b58f7a85-1ece-430c-97cc-e38a54ebdb8a",
   "metadata": {},
   "outputs": [],
   "source": []
  }
 ],
 "metadata": {
  "kernelspec": {
   "display_name": "Python 3 (ipykernel)",
   "language": "python",
   "name": "python3"
  },
  "language_info": {
   "codemirror_mode": {
    "name": "ipython",
    "version": 3
   },
   "file_extension": ".py",
   "mimetype": "text/x-python",
   "name": "python",
   "nbconvert_exporter": "python",
   "pygments_lexer": "ipython3",
   "version": "3.12.7"
  }
 },
 "nbformat": 4,
 "nbformat_minor": 5
}
